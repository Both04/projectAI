{
 "cells": [
  {
   "cell_type": "code",
   "execution_count": 1,
   "metadata": {},
   "outputs": [],
   "source": [
    "import cv2,os\n",
    "import numpy as np\n",
    "from keras.utils import np_utils\n",
    "from sklearn.model_selection import train_test_split\n",
    "from keras.models import Sequential\n",
    "from keras.layers import Dense,Activation,Flatten,Dropout,Conv2D,MaxPooling2D\n",
    "from keras.callbacks import ModelCheckpoint\n",
    "from keras.models import load_model\n",
    "from matplotlib import pyplot as plt"
   ]
  },
  {
   "cell_type": "code",
   "execution_count": 2,
   "metadata": {},
   "outputs": [
    {
     "name": "stdout",
     "output_type": "stream",
     "text": [
      "{'with mask': 0, 'without mask': 1}\n",
      "['with mask', 'without mask']\n",
      "[0, 1]\n"
     ]
    }
   ],
   "source": [
    "data_path='dataset'\n",
    "categories=os.listdir(data_path)\n",
    "labels=[i for i in range(len(categories))]\n",
    "\n",
    "label_dict=dict(zip(categories,labels)) #empty dictionary\n",
    "\n",
    "print(label_dict)\n",
    "print(categories)\n",
    "print(labels)"
   ]
  },
  {
   "cell_type": "code",
   "execution_count": 3,
   "metadata": {},
   "outputs": [],
   "source": [
    "img_size=100\n",
    "data=[]\n",
    "target=[]\n",
    "\n",
    "\n",
    "for category in categories:\n",
    "    folder_path=os.path.join(data_path,category)\n",
    "    img_names=os.listdir(folder_path)\n",
    "        \n",
    "    for img_name in img_names:\n",
    "        img_path=os.path.join(folder_path,img_name)\n",
    "        img=cv2.imread(img_path)\n",
    "\n",
    "        try:\n",
    "            gray=cv2.cvtColor(img,cv2.COLOR_BGR2GRAY)           \n",
    "            #Coverting the image into gray scale\n",
    "            resized=cv2.resize(gray,(img_size,img_size))\n",
    "            #resizing the gray scale into 50x50, since we need a fixed common size for all the images in the dataset\n",
    "            data.append(resized)\n",
    "            target.append(label_dict[category])\n",
    "            #appending the image and the label(categorized) into the list (dataset)\n",
    "\n",
    "        except Exception as e:\n",
    "            print('Exception:',e)\n",
    "            #if any exception rasied, the exception will be printed here. And pass to the next image"
   ]
  },
  {
   "cell_type": "code",
   "execution_count": 4,
   "metadata": {},
   "outputs": [],
   "source": [
    "data=np.array(data)/255.0\n",
    "data=np.reshape(data,(data.shape[0],img_size,img_size,1))\n",
    "target=np.array(target)\n",
    "\n",
    "new_target=np_utils.to_categorical(target)\n",
    "\n",
    "np.save('data',data)\n",
    "np.save('target',new_target)\n",
    "\n"
   ]
  },
  {
   "cell_type": "code",
   "execution_count": 5,
   "metadata": {},
   "outputs": [],
   "source": [
    "data=np.load('data.npy')\n",
    "target=np.load('target.npy')\n",
    "\n",
    "#loading the save numpy arrays in the previous code"
   ]
  },
  {
   "cell_type": "code",
   "execution_count": 6,
   "metadata": {},
   "outputs": [],
   "source": [
    "model=Sequential()\n",
    "\n",
    "model.add(Conv2D(200,(3,3),input_shape=data.shape[1:]))\n",
    "model.add(Activation('relu'))\n",
    "model.add(MaxPooling2D(pool_size=(2,2)))\n",
    "#The first CNN layer followed by Relu and MaxPooling layers\n",
    "\n",
    "model.add(Conv2D(100,(3,3)))\n",
    "model.add(Activation('relu'))\n",
    "model.add(MaxPooling2D(pool_size=(2,2)))\n",
    "#The second convolution layer followed by Relu and MaxPooling layers\n",
    "\n",
    "model.add(Flatten())\n",
    "model.add(Dropout(0.5))\n",
    "#Flatten layer to stack the output convolutions from second convolution layer\n",
    "model.add(Dense(50,activation='relu'))\n",
    "#Dense layer of 64 neurons\n",
    "model.add(Dense(2,activation='softmax'))\n",
    "#The Final layer with two outputs for two categories\n",
    "\n",
    "model.compile(loss='categorical_crossentropy',optimizer='adam',metrics=['accuracy'])\n"
   ]
  },
  {
   "cell_type": "code",
   "execution_count": 7,
   "metadata": {
    "scrolled": true
   },
   "outputs": [
    {
     "name": "stdout",
     "output_type": "stream",
     "text": [
      "Model: \"sequential\"\n",
      "_________________________________________________________________\n",
      "Layer (type)                 Output Shape              Param #   \n",
      "=================================================================\n",
      "conv2d (Conv2D)              (None, 98, 98, 200)       2000      \n",
      "_________________________________________________________________\n",
      "activation (Activation)      (None, 98, 98, 200)       0         \n",
      "_________________________________________________________________\n",
      "max_pooling2d (MaxPooling2D) (None, 49, 49, 200)       0         \n",
      "_________________________________________________________________\n",
      "conv2d_1 (Conv2D)            (None, 47, 47, 100)       180100    \n",
      "_________________________________________________________________\n",
      "activation_1 (Activation)    (None, 47, 47, 100)       0         \n",
      "_________________________________________________________________\n",
      "max_pooling2d_1 (MaxPooling2 (None, 23, 23, 100)       0         \n",
      "_________________________________________________________________\n",
      "flatten (Flatten)            (None, 52900)             0         \n",
      "_________________________________________________________________\n",
      "dropout (Dropout)            (None, 52900)             0         \n",
      "_________________________________________________________________\n",
      "dense (Dense)                (None, 50)                2645050   \n",
      "_________________________________________________________________\n",
      "dense_1 (Dense)              (None, 2)                 102       \n",
      "=================================================================\n",
      "Total params: 2,827,252\n",
      "Trainable params: 2,827,252\n",
      "Non-trainable params: 0\n",
      "_________________________________________________________________\n"
     ]
    }
   ],
   "source": [
    "model.summary()"
   ]
  },
  {
   "cell_type": "code",
   "execution_count": 8,
   "metadata": {},
   "outputs": [],
   "source": [
    "train_data,test_data,train_target,test_target=train_test_split(data,target,test_size=0.1)"
   ]
  },
  {
   "cell_type": "code",
   "execution_count": 9,
   "metadata": {},
   "outputs": [
    {
     "name": "stdout",
     "output_type": "stream",
     "text": [
      "Epoch 1/50\n",
      "31/31 [==============================] - ETA: 0s - loss: 0.7267 - accuracy: 0.5364WARNING:tensorflow:From C:\\Users\\bothb\\anaconda3\\lib\\site-packages\\tensorflow\\python\\training\\tracking\\tracking.py:111: Model.state_updates (from tensorflow.python.keras.engine.training) is deprecated and will be removed in a future version.\n",
      "Instructions for updating:\n",
      "This property should not be used in TensorFlow 2.0, as updates are applied automatically.\n",
      "WARNING:tensorflow:From C:\\Users\\bothb\\anaconda3\\lib\\site-packages\\tensorflow\\python\\training\\tracking\\tracking.py:111: Layer.updates (from tensorflow.python.keras.engine.base_layer) is deprecated and will be removed in a future version.\n",
      "Instructions for updating:\n",
      "This property should not be used in TensorFlow 2.0, as updates are applied automatically.\n",
      "INFO:tensorflow:Assets written to: model.model\\assets\n",
      "31/31 [==============================] - 44s 1s/step - loss: 0.7267 - accuracy: 0.5364 - val_loss: 0.6905 - val_accuracy: 0.5121\n",
      "Epoch 2/50\n",
      "31/31 [==============================] - ETA: 0s - loss: 0.5765 - accuracy: 0.6848INFO:tensorflow:Assets written to: model.model\\assets\n",
      "31/31 [==============================] - 43s 1s/step - loss: 0.5765 - accuracy: 0.6848 - val_loss: 0.4731 - val_accuracy: 0.7903\n",
      "Epoch 3/50\n",
      "31/31 [==============================] - ETA: 0s - loss: 0.3866 - accuracy: 0.8283INFO:tensorflow:Assets written to: model.model\\assets\n",
      "31/31 [==============================] - 43s 1s/step - loss: 0.3866 - accuracy: 0.8283 - val_loss: 0.3537 - val_accuracy: 0.8347\n",
      "Epoch 4/50\n",
      "31/31 [==============================] - ETA: 0s - loss: 0.2602 - accuracy: 0.9010INFO:tensorflow:Assets written to: model.model\\assets\n",
      "31/31 [==============================] - 43s 1s/step - loss: 0.2602 - accuracy: 0.9010 - val_loss: 0.2807 - val_accuracy: 0.8790\n",
      "Epoch 5/50\n",
      "31/31 [==============================] - 41s 1s/step - loss: 0.1859 - accuracy: 0.9283 - val_loss: 0.3181 - val_accuracy: 0.8508\n",
      "Epoch 6/50\n",
      "31/31 [==============================] - ETA: 0s - loss: 0.1690 - accuracy: 0.9414INFO:tensorflow:Assets written to: model.model\\assets\n",
      "31/31 [==============================] - 43s 1s/step - loss: 0.1690 - accuracy: 0.9414 - val_loss: 0.2111 - val_accuracy: 0.9315\n",
      "Epoch 7/50\n",
      "31/31 [==============================] - ETA: 0s - loss: 0.1005 - accuracy: 0.9626INFO:tensorflow:Assets written to: model.model\\assets\n",
      "31/31 [==============================] - 43s 1s/step - loss: 0.1005 - accuracy: 0.9626 - val_loss: 0.2074 - val_accuracy: 0.9073\n",
      "Epoch 8/50\n",
      "31/31 [==============================] - 41s 1s/step - loss: 0.0862 - accuracy: 0.9697 - val_loss: 0.2119 - val_accuracy: 0.9274\n",
      "Epoch 9/50\n",
      "31/31 [==============================] - ETA: 0s - loss: 0.0817 - accuracy: 0.9707INFO:tensorflow:Assets written to: model.model\\assets\n",
      "31/31 [==============================] - 44s 1s/step - loss: 0.0817 - accuracy: 0.9707 - val_loss: 0.1712 - val_accuracy: 0.9274\n",
      "Epoch 10/50\n",
      "31/31 [==============================] - 41s 1s/step - loss: 0.0729 - accuracy: 0.9677 - val_loss: 0.2079 - val_accuracy: 0.9113\n",
      "Epoch 11/50\n",
      "31/31 [==============================] - 41s 1s/step - loss: 0.0500 - accuracy: 0.9808 - val_loss: 0.1712 - val_accuracy: 0.9315\n",
      "Epoch 12/50\n",
      "31/31 [==============================] - 41s 1s/step - loss: 0.0478 - accuracy: 0.9848 - val_loss: 0.1919 - val_accuracy: 0.9153\n",
      "Epoch 13/50\n",
      "31/31 [==============================] - 41s 1s/step - loss: 0.0298 - accuracy: 0.9929 - val_loss: 0.2222 - val_accuracy: 0.9274\n",
      "Epoch 14/50\n",
      "31/31 [==============================] - 42s 1s/step - loss: 0.0298 - accuracy: 0.9899 - val_loss: 0.2379 - val_accuracy: 0.9355\n",
      "Epoch 15/50\n",
      "31/31 [==============================] - 41s 1s/step - loss: 0.0384 - accuracy: 0.9859 - val_loss: 0.1973 - val_accuracy: 0.9234\n",
      "Epoch 16/50\n",
      "31/31 [==============================] - 41s 1s/step - loss: 0.0369 - accuracy: 0.9859 - val_loss: 0.1975 - val_accuracy: 0.9395\n",
      "Epoch 17/50\n",
      "31/31 [==============================] - 41s 1s/step - loss: 0.0286 - accuracy: 0.9919 - val_loss: 0.2243 - val_accuracy: 0.9274\n",
      "Epoch 18/50\n",
      "31/31 [==============================] - 41s 1s/step - loss: 0.0171 - accuracy: 0.9939 - val_loss: 0.2101 - val_accuracy: 0.9355\n",
      "Epoch 19/50\n",
      "31/31 [==============================] - 41s 1s/step - loss: 0.0281 - accuracy: 0.9909 - val_loss: 0.2637 - val_accuracy: 0.9194\n",
      "Epoch 20/50\n",
      "31/31 [==============================] - 41s 1s/step - loss: 0.0352 - accuracy: 0.9848 - val_loss: 0.2126 - val_accuracy: 0.9315\n",
      "Epoch 21/50\n",
      "31/31 [==============================] - 41s 1s/step - loss: 0.0208 - accuracy: 0.9929 - val_loss: 0.2705 - val_accuracy: 0.9234\n",
      "Epoch 22/50\n",
      "31/31 [==============================] - 41s 1s/step - loss: 0.0163 - accuracy: 0.9949 - val_loss: 0.2067 - val_accuracy: 0.9435\n",
      "Epoch 23/50\n",
      "31/31 [==============================] - 41s 1s/step - loss: 0.0167 - accuracy: 0.9929 - val_loss: 0.2162 - val_accuracy: 0.9395\n",
      "Epoch 24/50\n",
      "31/31 [==============================] - 41s 1s/step - loss: 0.0164 - accuracy: 0.9960 - val_loss: 0.2347 - val_accuracy: 0.9355\n",
      "Epoch 25/50\n",
      "31/31 [==============================] - 41s 1s/step - loss: 0.0102 - accuracy: 0.9980 - val_loss: 0.2674 - val_accuracy: 0.9315\n",
      "Epoch 26/50\n",
      "31/31 [==============================] - 41s 1s/step - loss: 0.0075 - accuracy: 0.9980 - val_loss: 0.2335 - val_accuracy: 0.9274\n",
      "Epoch 27/50\n",
      "31/31 [==============================] - 41s 1s/step - loss: 0.0233 - accuracy: 0.9960 - val_loss: 0.1895 - val_accuracy: 0.9476\n",
      "Epoch 28/50\n",
      "31/31 [==============================] - 41s 1s/step - loss: 0.0184 - accuracy: 0.9939 - val_loss: 0.2408 - val_accuracy: 0.9315\n",
      "Epoch 29/50\n",
      "31/31 [==============================] - 41s 1s/step - loss: 0.0155 - accuracy: 0.9960 - val_loss: 0.2202 - val_accuracy: 0.9355\n",
      "Epoch 30/50\n",
      "31/31 [==============================] - 41s 1s/step - loss: 0.0405 - accuracy: 0.9859 - val_loss: 0.4852 - val_accuracy: 0.8952\n",
      "Epoch 31/50\n",
      "31/31 [==============================] - 41s 1s/step - loss: 0.0246 - accuracy: 0.9929 - val_loss: 0.2407 - val_accuracy: 0.9355\n",
      "Epoch 32/50\n",
      "31/31 [==============================] - 42s 1s/step - loss: 0.0181 - accuracy: 0.9949 - val_loss: 0.2756 - val_accuracy: 0.9234\n",
      "Epoch 33/50\n",
      "31/31 [==============================] - 41s 1s/step - loss: 0.0151 - accuracy: 0.9939 - val_loss: 0.2561 - val_accuracy: 0.9315\n",
      "Epoch 34/50\n",
      "31/31 [==============================] - 41s 1s/step - loss: 0.0080 - accuracy: 0.9970 - val_loss: 0.2915 - val_accuracy: 0.9315\n",
      "Epoch 35/50\n",
      "31/31 [==============================] - 41s 1s/step - loss: 0.0097 - accuracy: 0.9949 - val_loss: 0.2555 - val_accuracy: 0.9395\n",
      "Epoch 36/50\n",
      "31/31 [==============================] - 41s 1s/step - loss: 0.0110 - accuracy: 0.9939 - val_loss: 0.2990 - val_accuracy: 0.9315\n",
      "Epoch 37/50\n",
      "31/31 [==============================] - 40s 1s/step - loss: 0.0104 - accuracy: 0.9960 - val_loss: 0.3799 - val_accuracy: 0.9355\n",
      "Epoch 38/50\n",
      "31/31 [==============================] - 41s 1s/step - loss: 0.0135 - accuracy: 0.9949 - val_loss: 0.3385 - val_accuracy: 0.9315\n",
      "Epoch 39/50\n",
      "31/31 [==============================] - 41s 1s/step - loss: 0.0084 - accuracy: 0.9970 - val_loss: 0.2580 - val_accuracy: 0.9435\n",
      "Epoch 40/50\n",
      "31/31 [==============================] - 40s 1s/step - loss: 0.0188 - accuracy: 0.9919 - val_loss: 0.2090 - val_accuracy: 0.9435\n",
      "Epoch 41/50\n",
      "31/31 [==============================] - 41s 1s/step - loss: 0.0082 - accuracy: 0.9960 - val_loss: 0.2416 - val_accuracy: 0.9395\n",
      "Epoch 42/50\n",
      "31/31 [==============================] - 41s 1s/step - loss: 0.0029 - accuracy: 1.0000 - val_loss: 0.3218 - val_accuracy: 0.9395\n",
      "Epoch 43/50\n",
      "31/31 [==============================] - 42s 1s/step - loss: 0.0067 - accuracy: 0.9970 - val_loss: 0.3025 - val_accuracy: 0.9435\n",
      "Epoch 44/50\n",
      "31/31 [==============================] - 41s 1s/step - loss: 0.0028 - accuracy: 1.0000 - val_loss: 0.3536 - val_accuracy: 0.9355\n",
      "Epoch 45/50\n",
      "31/31 [==============================] - 41s 1s/step - loss: 0.0069 - accuracy: 0.9990 - val_loss: 0.2770 - val_accuracy: 0.9395\n",
      "Epoch 46/50\n",
      "31/31 [==============================] - 41s 1s/step - loss: 0.0042 - accuracy: 0.9980 - val_loss: 0.2996 - val_accuracy: 0.9395\n",
      "Epoch 47/50\n"
     ]
    },
    {
     "name": "stdout",
     "output_type": "stream",
     "text": [
      "31/31 [==============================] - 41s 1s/step - loss: 0.0107 - accuracy: 0.9949 - val_loss: 0.2874 - val_accuracy: 0.9274\n",
      "Epoch 48/50\n",
      "31/31 [==============================] - 41s 1s/step - loss: 0.0084 - accuracy: 0.9980 - val_loss: 0.4458 - val_accuracy: 0.9395\n",
      "Epoch 49/50\n",
      "31/31 [==============================] - 41s 1s/step - loss: 0.0116 - accuracy: 0.9970 - val_loss: 0.2575 - val_accuracy: 0.9234\n",
      "Epoch 50/50\n",
      "31/31 [==============================] - 41s 1s/step - loss: 0.0057 - accuracy: 0.9970 - val_loss: 0.2473 - val_accuracy: 0.9355\n"
     ]
    }
   ],
   "source": [
    "checkpoint = ModelCheckpoint('model.model',monitor='val_loss',verbose=0,save_best_only=True,mode='auto')\n",
    "history=model.fit(train_data,train_target,epochs=50,callbacks=[checkpoint],validation_split=0.2)"
   ]
  },
  {
   "cell_type": "code",
   "execution_count": 10,
   "metadata": {},
   "outputs": [
    {
     "data": {
      "image/png": "[encoded data removed]",
      "text/plain": [
       "<Figure size 432x288 with 1 Axes>"
      ]
     },
     "metadata": {
      "needs_background": "light"
     },
     "output_type": "display_data"
    }
   ],
   "source": [
    "\n",
    "\n",
    "plt.plot(history.history['loss'],'r',label='training loss')\n",
    "plt.plot(history.history['val_loss'],label='validation loss')\n",
    "plt.xlabel('# epochs')\n",
    "plt.ylabel('loss')\n",
    "plt.legend()\n",
    "plt.show()"
   ]
  },
  {
   "cell_type": "code",
   "execution_count": 11,
   "metadata": {},
   "outputs": [
    {
     "name": "stdout",
     "output_type": "stream",
     "text": [
      "Loss is 0.13 Accuracy: 0.96\n",
      "Accuracy: 95.65 %\n"
     ]
    }
   ],
   "source": [
    "score = model.evaluate(test_data,test_target, verbose=0)\n",
    "\n",
    "print('Loss is {:.2f}'.format(score[0]) , 'Accuracy: {:.2f}'.format(score[1]) )\n",
    "print('Accuracy: {:.2f}'.format((score[1]*100)) , '%')"
   ]
  },
  {
   "cell_type": "code",
   "execution_count": 30,
   "metadata": {},
   "outputs": [],
   "source": [
    "model = load_model('model.model')\n",
    "\n",
    "face_clsfr=cv2.CascadeClassifier('haarcascade_frontalface_default.xml')\n",
    "\n",
    "source=cv2.VideoCapture(0)\n",
    "\n",
    "labels_dict={0:'MASK',1:'NO MASK'}\n",
    "color_dict={0:(0,255,0),1:(0,0,255)}"
   ]
  },
  {
   "cell_type": "code",
   "execution_count": 31,
   "metadata": {},
   "outputs": [],
   "source": [
    "while(True):\n",
    "\n",
    "    ret,img=source.read()\n",
    "    gray=cv2.cvtColor(img,cv2.COLOR_BGR2GRAY)\n",
    "    faces=face_clsfr.detectMultiScale(gray,1.3,5)  \n",
    "\n",
    "    for (x,y,w,h) in faces:\n",
    "    \n",
    "        face_img=gray[y:y+w,x:x+w]\n",
    "        resized=cv2.resize(face_img,(100,100))\n",
    "        normalized=resized/255.0\n",
    "        reshaped=np.reshape(normalized,(1,100,100,1))\n",
    "        result=model.predict(reshaped)\n",
    "\n",
    "        label=np.argmax(result,axis=1)[0]\n",
    "      \n",
    "        cv2.rectangle(img,(x,y),(x+w,y+h),color_dict[label],2)\n",
    "        cv2.rectangle(img,(x,y-40),(x+w,y),color_dict[label],-1)\n",
    "        cv2.putText(img, labels_dict[label], (x, y-10),cv2.FONT_HERSHEY_SIMPLEX,0.8,(255,255,255),2)\n",
    "        \n",
    "        \n",
    "    cv2.imshow('LIVE',img)\n",
    "    key=cv2.waitKey(1)\n",
    "    \n",
    "    if(key==27):\n",
    "        break\n",
    "        \n",
    "cv2.destroyAllWindows()\n",
    "source.release()"
   ]
  },
  {
   "cell_type": "code",
   "execution_count": null,
   "metadata": {},
   "outputs": [],
   "source": []
  }
 ],
 "metadata": {
  "kernelspec": {
   "display_name": "Python 3",
   "language": "python",
   "name": "python3"
  },
  "language_info": {
   "codemirror_mode": {
    "name": "ipython",
    "version": 3
   },
   "file_extension": ".py",
   "mimetype": "text/x-python",
   "name": "python",
   "nbconvert_exporter": "python",
   "pygments_lexer": "ipython3",
   "version": "3.8.3"
  }
 },
 "nbformat": 4,
 "nbformat_minor": 4
}
